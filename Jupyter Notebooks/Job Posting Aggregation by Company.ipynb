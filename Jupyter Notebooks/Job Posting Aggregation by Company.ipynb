{
 "cells": [
  {
   "cell_type": "code",
   "execution_count": 1,
   "metadata": {},
   "outputs": [],
   "source": [
    "import pandas as pd\n"
   ]
  },
  {
   "cell_type": "code",
   "execution_count": 2,
   "metadata": {},
   "outputs": [
    {
     "name": "stdout",
     "output_type": "stream",
     "text": [
      "                                              Job Title  \\\n",
      "0                            Route Sales Representative   \n",
      "1                                 Ultrasound Technician   \n",
      "2                      Optometric/Ophthalmic Technician   \n",
      "3                                            Controller   \n",
      "4                                       Account Manager   \n",
      "...                                                 ...   \n",
      "1570                        Technical Support Scientist   \n",
      "1571                Delivery Driver - Pharmacy Services   \n",
      "1572                      Environmental Services Worker   \n",
      "1573  Reimbursement Specialist I - Reimbursement Ser...   \n",
      "1574                       Testing Services Coordinator   \n",
      "\n",
      "                            Company Name  \\\n",
      "0                Frito-Lay North America   \n",
      "1                  Proximity Diagnostics   \n",
      "2               Imperial Beach Optometry   \n",
      "3                               Filtrous   \n",
      "4                          Aya Corporate   \n",
      "...                                  ...   \n",
      "1570                          bioMérieux   \n",
      "1571                     Cardinal Health   \n",
      "1572                    Sharp Healthcare   \n",
      "1573  Rady Children's Hospital-San Diego   \n",
      "1574                 National University   \n",
      "\n",
      "                                               Location  Remote  \\\n",
      "0     San Diego, CA 92123 \\n(Kearny Mesa area)\\n+1 l...   False   \n",
      "1                                         San Diego, CA   False   \n",
      "2                 Imperial Beach, CA 91932\\n+1 location   False   \n",
      "3                                       Poway, CA 92064   False   \n",
      "4                          San Diego, CA\\n+18 locations   False   \n",
      "...                                                 ...     ...   \n",
      "1570                                      San Diego, CA   False   \n",
      "1571                                San Diego, CA 92108   False   \n",
      "1572                                      San Diego, CA   False   \n",
      "1573                        San Diego, CA\\n+4 locations   False   \n",
      "1574                                San Diego, CA 92106   False   \n",
      "\n",
      "                        Salary  Full Time  Part Time Date Posted Salary Type  \\\n",
      "0                 $1179 a week       True      False    1/7/2022        week   \n",
      "1         $1800 - $3200 a week      False       True    1/7/2022        week   \n",
      "2            $10 - $18 an hour       True      False    1/7/2022        hour   \n",
      "3     $100000 - $150000 a year       True      False    1/7/2022        year   \n",
      "4     $100000 - $175000 a year      False      False    1/7/2022        year   \n",
      "...                        ...        ...        ...         ...         ...   \n",
      "1570                       NaN       True      False    1/4/2022         NaN   \n",
      "1571                       NaN       True      False  12/30/2021         NaN   \n",
      "1572                       NaN      False      False  12/29/2021         NaN   \n",
      "1573                       NaN       True      False  12/31/2021         NaN   \n",
      "1574                       NaN       True      False  12/16/2021         NaN   \n",
      "\n",
      "      Annual Salary  \n",
      "0           61308.0  \n",
      "1           93600.0  \n",
      "2           20870.0  \n",
      "3          100000.0  \n",
      "4          100000.0  \n",
      "...             ...  \n",
      "1570            NaN  \n",
      "1571            NaN  \n",
      "1572            NaN  \n",
      "1573            NaN  \n",
      "1574            NaN  \n",
      "\n",
      "[1575 rows x 10 columns]\n"
     ]
    }
   ],
   "source": [
    "df = pd.read_csv('../Data/Job_Posting_Data_With_Annual_Salary.csv')\n",
    "print(df)"
   ]
  },
  {
   "cell_type": "code",
   "execution_count": 3,
   "metadata": {},
   "outputs": [
    {
     "name": "stdout",
     "output_type": "stream",
     "text": [
      "Company Name\n",
      "Sharp Healthcare                          41\n",
      "UC San Diego                              37\n",
      "County of San Diego                       25\n",
      "INDUS Technology, Inc.                    21\n",
      "California State University               18\n",
      "                                          ..\n",
      "Ohio Shared Information Services Inc       1\n",
      "Octapharma Plasma, Inc.                    1\n",
      "OES Equipment, LLC                         1\n",
      "O'Connor Construction Management, Inc.     1\n",
      "Landings Real Estate Group                 1\n",
      "Name: Count, Length: 943, dtype: int64\n",
      "Company Name\n",
      "Nomad Health         268632.0\n",
      "Ventus Aires         216000.0\n",
      "DREAMANAGER, Inc.    200000.0\n",
      "Aspen Medical        180840.0\n",
      "Tolman Media         156525.0\n",
      "                       ...   \n",
      "Zipcar, Inc.              NaN\n",
      "Zovio                     NaN\n",
      "bioMérieux                NaN\n",
      "i3 Verticals              NaN\n",
      "pSemi                     NaN\n",
      "Name: Median Salary, Length: 943, dtype: float64\n"
     ]
    }
   ],
   "source": [
    "# Count job postings and find median salary, grouped by Company Name\n",
    "count = df.groupby(['Company Name']).size()\n",
    "company_count = pd.Series(count, name='Count')\n",
    "median = df.groupby(['Company Name'])['Annual Salary'].median()\n",
    "company_median_salary = pd.Series(median, name='Median Salary')\n",
    "\n",
    "print(company_count.sort_values(ascending=False))\n",
    "print(company_median_salary.sort_values(ascending=False))"
   ]
  },
  {
   "cell_type": "code",
   "execution_count": 4,
   "metadata": {},
   "outputs": [
    {
     "name": "stdout",
     "output_type": "stream",
     "text": [
      "                             Count  Median Salary\n",
      "Company Name                                     \n",
      "Sharp Healthcare                41            NaN\n",
      "UC San Diego                    37        48900.0\n",
      "County of San Diego             25        65894.5\n",
      "INDUS Technology, Inc.          21            NaN\n",
      "California State University     18        40752.0\n",
      "...                            ...            ...\n",
      "Healthstore                      1            NaN\n",
      "Helix Electric                   1            NaN\n",
      "Helix Electric, Inc.             1            NaN\n",
      "Hertz                            1            NaN\n",
      "zHealth                          1        45000.0\n",
      "\n",
      "[943 rows x 2 columns]\n"
     ]
    }
   ],
   "source": [
    "# Combine the info into a DataFrame\n",
    "company_aggregates = pd.concat([company_count, company_median_salary], axis=1)\n",
    "print(company_aggregates.sort_values(by=\"Count\",ascending=False))\n",
    "\n",
    "# Save the csv file\n",
    "company_aggregates.to_csv(\"../Aggregates/Company_Aggregates.csv\")"
   ]
  },
  {
   "cell_type": "code",
   "execution_count": null,
   "metadata": {},
   "outputs": [],
   "source": []
  }
 ],
 "metadata": {
  "kernelspec": {
   "display_name": "Python 3",
   "language": "python",
   "name": "python3"
  },
  "language_info": {
   "codemirror_mode": {
    "name": "ipython",
    "version": 3
   },
   "file_extension": ".py",
   "mimetype": "text/x-python",
   "name": "python",
   "nbconvert_exporter": "python",
   "pygments_lexer": "ipython3",
   "version": "3.7.4"
  }
 },
 "nbformat": 4,
 "nbformat_minor": 5
}
