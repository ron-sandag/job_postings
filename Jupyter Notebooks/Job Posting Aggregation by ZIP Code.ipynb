{
 "cells": [
  {
   "cell_type": "code",
   "execution_count": 1,
   "metadata": {},
   "outputs": [],
   "source": [
    "import pandas as pd"
   ]
  },
  {
   "cell_type": "code",
   "execution_count": 2,
   "metadata": {},
   "outputs": [
    {
     "name": "stdout",
     "output_type": "stream",
     "text": [
      "                                              Job Title  \\\n",
      "0                            Route Sales Representative   \n",
      "1                                 Ultrasound Technician   \n",
      "2                      Optometric/Ophthalmic Technician   \n",
      "3                                            Controller   \n",
      "4                                       Account Manager   \n",
      "...                                                 ...   \n",
      "1570                        Technical Support Scientist   \n",
      "1571                Delivery Driver - Pharmacy Services   \n",
      "1572                      Environmental Services Worker   \n",
      "1573  Reimbursement Specialist I - Reimbursement Ser...   \n",
      "1574                       Testing Services Coordinator   \n",
      "\n",
      "                            Company Name  \\\n",
      "0                Frito-Lay North America   \n",
      "1                  Proximity Diagnostics   \n",
      "2               Imperial Beach Optometry   \n",
      "3                               Filtrous   \n",
      "4                          Aya Corporate   \n",
      "...                                  ...   \n",
      "1570                          bioMérieux   \n",
      "1571                     Cardinal Health   \n",
      "1572                    Sharp Healthcare   \n",
      "1573  Rady Children's Hospital-San Diego   \n",
      "1574                 National University   \n",
      "\n",
      "                                               Location  Remote  \\\n",
      "0     San Diego, CA 92123 \\n(Kearny Mesa area)\\n+1 l...   False   \n",
      "1                                         San Diego, CA   False   \n",
      "2                 Imperial Beach, CA 91932\\n+1 location   False   \n",
      "3                                       Poway, CA 92064   False   \n",
      "4                          San Diego, CA\\n+18 locations   False   \n",
      "...                                                 ...     ...   \n",
      "1570                                      San Diego, CA   False   \n",
      "1571                                San Diego, CA 92108   False   \n",
      "1572                                      San Diego, CA   False   \n",
      "1573                        San Diego, CA\\n+4 locations   False   \n",
      "1574                                San Diego, CA 92106   False   \n",
      "\n",
      "                        Salary  Full Time  Part Time Date Posted Salary Type  \\\n",
      "0                 $1179 a week       True      False    1/7/2022        week   \n",
      "1         $1800 - $3200 a week      False       True    1/7/2022        week   \n",
      "2            $10 - $18 an hour       True      False    1/7/2022        hour   \n",
      "3     $100000 - $150000 a year       True      False    1/7/2022        year   \n",
      "4     $100000 - $175000 a year      False      False    1/7/2022        year   \n",
      "...                        ...        ...        ...         ...         ...   \n",
      "1570                       NaN       True      False    1/4/2022         NaN   \n",
      "1571                       NaN       True      False  12/30/2021         NaN   \n",
      "1572                       NaN      False      False  12/29/2021         NaN   \n",
      "1573                       NaN       True      False  12/31/2021         NaN   \n",
      "1574                       NaN       True      False  12/16/2021         NaN   \n",
      "\n",
      "      Annual Salary ZIP Code  \n",
      "0           61308.0    92123  \n",
      "1           93600.0      NaN  \n",
      "2           20870.0    91932  \n",
      "3          100000.0    92064  \n",
      "4          100000.0      NaN  \n",
      "...             ...      ...  \n",
      "1570            NaN      NaN  \n",
      "1571            NaN    92108  \n",
      "1572            NaN      NaN  \n",
      "1573            NaN      NaN  \n",
      "1574            NaN    92106  \n",
      "\n",
      "[1575 rows x 11 columns]\n"
     ]
    }
   ],
   "source": [
    "# Import our .csv file\n",
    "df = pd.read_csv('../Data/Job_Posting_Data_With_Annual_Salary.csv')\n",
    "\n",
    "# Create a column of ZIP codes\n",
    "df['ZIP Code'] = df['Location'].str.extract(r'(\\d{5})')\n",
    "print(df)"
   ]
  },
  {
   "cell_type": "code",
   "execution_count": 3,
   "metadata": {},
   "outputs": [
    {
     "name": "stdout",
     "output_type": "stream",
     "text": [
      "ZIP Code\n",
      "91909     1\n",
      "91910    12\n",
      "91911    13\n",
      "91913     1\n",
      "91914     1\n",
      "         ..\n",
      "92173     5\n",
      "92178     1\n",
      "92179     1\n",
      "92182     9\n",
      "92192     1\n",
      "Name: Count, Length: 94, dtype: int64\n",
      "ZIP Code\n",
      "91909     39653.0\n",
      "91910     56349.0\n",
      "91911     36522.5\n",
      "91913    180840.0\n",
      "91914     41740.0\n",
      "           ...   \n",
      "92173     35479.0\n",
      "92178         NaN\n",
      "92179     39653.0\n",
      "92182     41280.0\n",
      "92192     33392.0\n",
      "Name: Median Salary, Length: 94, dtype: float64\n"
     ]
    }
   ],
   "source": [
    "# Count job postings and find median salary, grouped by ZIP code\n",
    "count = df.groupby(['ZIP Code']).size()\n",
    "zip_code_count = pd.Series(count, name='Count')\n",
    "median = df.groupby(['ZIP Code'])['Annual Salary'].median()\n",
    "zip_code_median_salary = pd.Series(median, name='Median Salary')\n",
    "\n",
    "print(zip_code_count)\n",
    "print(zip_code_median_salary)\n",
    "\n",
    "# Create dataframe from this information\n",
    "zip_code_df = pd.concat([zip_code_count, zip_code_median_salary], axis=1)"
   ]
  },
  {
   "cell_type": "code",
   "execution_count": 4,
   "metadata": {},
   "outputs": [
    {
     "name": "stdout",
     "output_type": "stream",
     "text": [
      "          Count  Median Salary\n",
      "ZIP Code                      \n",
      "91910        12        56349.0\n",
      "91911        13        36522.5\n",
      "91942        11        55000.0\n",
      "91950        18        31305.0\n",
      "92008        18        47957.0\n"
     ]
    }
   ],
   "source": [
    "# Remove Zip codes that have less than 5 job postings\n",
    "zip_code_df = zip_code_df[zip_code_df[\"Count\"] > 4]\n",
    "print(zip_code_df.head())"
   ]
  },
  {
   "cell_type": "code",
   "execution_count": 5,
   "metadata": {},
   "outputs": [],
   "source": [
    "# Save to .csv File\n",
    "\n",
    "zip_code_df.to_csv('../Aggregates/zip_code_aggregates.csv')"
   ]
  },
  {
   "cell_type": "code",
   "execution_count": null,
   "metadata": {},
   "outputs": [],
   "source": []
  }
 ],
 "metadata": {
  "kernelspec": {
   "display_name": "Python 3",
   "language": "python",
   "name": "python3"
  },
  "language_info": {
   "codemirror_mode": {
    "name": "ipython",
    "version": 3
   },
   "file_extension": ".py",
   "mimetype": "text/x-python",
   "name": "python",
   "nbconvert_exporter": "python",
   "pygments_lexer": "ipython3",
   "version": "3.7.4"
  }
 },
 "nbformat": 4,
 "nbformat_minor": 5
}
